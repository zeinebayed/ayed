{
 "cells": [
  {
   "cell_type": "code",
   "execution_count": 1,
   "id": "1be9bae4-5f58-4fce-8ddc-4b9a6a548764",
   "metadata": {},
   "outputs": [
    {
     "name": "stdout",
     "output_type": "stream",
     "text": [
      "hello gmc\n"
     ]
    }
   ],
   "source": [
    "print(\"hello gmc\")"
   ]
  },
  {
   "cell_type": "code",
   "execution_count": null,
   "id": "e4d9f231-9c5b-4c42-bd59-73aae513161b",
   "metadata": {},
   "outputs": [],
   "source": []
  }
 ],
 "metadata": {
  "kernelspec": {
   "display_name": "Python 3",
   "language": "python",
   "name": "python3"
  },
  "language_info": {
   "codemirror_mode": {
    "name": "ipython",
    "version": 3
   },
   "file_extension": ".py",
   "mimetype": "text/x-python",
   "name": "python",
   "nbconvert_exporter": "python",
   "pygments_lexer": "ipython3",
   "version": "3.8.8"
  }
 },
 "nbformat": 4,
 "nbformat_minor": 5
}
